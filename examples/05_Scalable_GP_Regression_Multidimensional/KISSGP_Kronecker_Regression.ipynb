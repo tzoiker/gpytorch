{
 "cells": [
  {
   "cell_type": "markdown",
   "metadata": {},
   "source": [
    "This example shows how to use a `GridInterpolationKernel` module. This regression module is designed for when the function you're modeling has 2-3 dimensional inputs and you don't believe that the output can be additively decomposed.\n",
    "\n",
    "In this example, we’re modeling $y=sin(2\\pi(x_0+x_1))$\n",
    " \n",
    "`GridInterpolationKernel` exploits Kronecker structure in the inducing points"
   ]
  },
  {
   "cell_type": "code",
   "execution_count": 1,
   "metadata": {
    "collapsed": true
   },
   "outputs": [],
   "source": [
    "import math\n",
    "import torch\n",
    "import gpytorch\n",
    "import numpy\n",
    "from matplotlib import pyplot as plt\n",
    "from torch import nn, optim\n",
    "from torch.autograd import Variable\n",
    "from gpytorch.kernels import RBFKernel, GridInterpolationKernel\n",
    "from gpytorch.means import ConstantMean\n",
    "from gpytorch.likelihoods import GaussianLikelihood\n",
    "from gpytorch.random_variables import GaussianRandomVariable\n",
    "\n",
    "%matplotlib inline"
   ]
  },
  {
   "cell_type": "code",
   "execution_count": 2,
   "metadata": {
    "collapsed": true
   },
   "outputs": [],
   "source": [
    "# We make an nxn grid of training points spaced every 1/(n-1) on [0,1]x[0,1]\n",
    "n = 40\n",
    "train_x = torch.zeros(pow(n, 2), 2)\n",
    "for i in range(n):\n",
    "    for j in range(n):\n",
    "        train_x[i * n + j][0] = float(i) / (n-1)\n",
    "        train_x[i * n + j][1] = float(j) / (n-1)\n",
    "train_x = Variable(train_x)\n",
    "# True function is sin( 2*pi*(x0+x1))\n",
    "train_y = Variable(torch.sin(((train_x.data[:, 0] + train_x.data[:, 1]) * (2 * math.pi))))"
   ]
  },
  {
   "cell_type": "code",
   "execution_count": 4,
   "metadata": {},
   "outputs": [],
   "source": [
    "# We use KISS-GP (kernel interpolation for scalable structured Gaussian Processes)\n",
    "# as in https://arxiv.org/pdf/1503.01057.pdf\n",
    "class GPRegressionModel(gpytorch.models.ExactGP):\n",
    "    def __init__(self, train_x, train_y, likelihood):\n",
    "        super(GPRegressionModel, self).__init__(train_x, train_y, likelihood)\n",
    "        # Near-zero mean\n",
    "        self.mean_module = ConstantMean()\n",
    "        # GridInterpolationKernel over an ExactGP\n",
    "        self.base_covar_module = RBFKernel()\n",
    "        self.covar_module = GridInterpolationKernel(self.base_covar_module, grid_size=30,\n",
    "                                                    grid_bounds=[(0, 1), (0, 1)])\n",
    "        # Register the log lengthscale as a trainable parameter\n",
    "        self.register_parameter('log_outputscale', nn.Parameter(torch.Tensor([0])))\n",
    "        \n",
    "    def forward(self,x):\n",
    "        mean_x = self.mean_module(x)\n",
    "        covar_x = self.covar_module(x)\n",
    "        covar_x = covar_x.mul(self.log_outputscale.exp())\n",
    "        return GaussianRandomVariable(mean_x, covar_x)\n",
    "\n",
    "# Initialize the likelihood and model\n",
    "# We use a Gaussian likelihood for regression so we have both a predictive\n",
    "# mean and variance for our predictions\n",
    "likelihood = GaussianLikelihood()\n",
    "model = GPRegressionModel(train_x.data, train_y.data, likelihood)"
   ]
  },
  {
   "cell_type": "code",
   "execution_count": 5,
   "metadata": {},
   "outputs": [
    {
     "name": "stdout",
     "output_type": "stream",
     "text": [
      "Iter 1/30 - Loss: 1.142\n",
      "Iter 2/30 - Loss: 1.091\n",
      "Iter 3/30 - Loss: 1.032\n",
      "Iter 4/30 - Loss: 0.971\n",
      "Iter 5/30 - Loss: 0.911\n",
      "Iter 6/30 - Loss: 0.854\n",
      "Iter 7/30 - Loss: 0.793\n",
      "Iter 8/30 - Loss: 0.713\n",
      "Iter 9/30 - Loss: 0.626\n",
      "Iter 10/30 - Loss: 0.536\n",
      "Iter 11/30 - Loss: 0.469\n",
      "Iter 12/30 - Loss: 0.409\n",
      "Iter 13/30 - Loss: 0.359\n",
      "Iter 14/30 - Loss: 0.307\n",
      "Iter 15/30 - Loss: 0.264\n",
      "Iter 16/30 - Loss: 0.216\n",
      "Iter 17/30 - Loss: 0.166\n",
      "Iter 18/30 - Loss: 0.114\n",
      "Iter 19/30 - Loss: 0.080\n",
      "Iter 20/30 - Loss: 0.034\n",
      "Iter 21/30 - Loss: -0.016\n",
      "Iter 22/30 - Loss: -0.063\n",
      "Iter 23/30 - Loss: -0.123\n",
      "Iter 24/30 - Loss: -0.172\n",
      "Iter 25/30 - Loss: -0.234\n",
      "Iter 26/30 - Loss: -0.279\n",
      "Iter 27/30 - Loss: -0.336\n",
      "Iter 28/30 - Loss: -0.401\n",
      "Iter 29/30 - Loss: -0.444\n",
      "Iter 30/30 - Loss: -0.512\n",
      "CPU times: user 22.2 s, sys: 844 ms, total: 23.1 s\n",
      "Wall time: 6.73 s\n"
     ]
    }
   ],
   "source": [
    "# Find optimal model hyperparameters\n",
    "model.train()\n",
    "likelihood.train()\n",
    "\n",
    "# Use the adam optimizer\n",
    "optimizer = torch.optim.Adam([\n",
    "    {'params': model.parameters()},  # Includes GaussianLikelihood parameters\n",
    "], lr=0.1)\n",
    "\n",
    "# \"Loss\" for GPs - the marginal log likelihood\n",
    "mll = gpytorch.mlls.ExactMarginalLogLikelihood(likelihood, model)\n",
    "\n",
    "def train():\n",
    "    training_iterations = 30\n",
    "    for i in range(training_iterations):\n",
    "        # Zero out gradients from backprop\n",
    "        optimizer.zero_grad()\n",
    "        # Get predicitve mean and variance\n",
    "        output = model(train_x)\n",
    "        # Calculate loss and backprop gradients\n",
    "        loss = -mll(output, train_y)\n",
    "        loss.backward()\n",
    "        print('Iter %d/%d - Loss: %.3f' % (i + 1, training_iterations, loss.data[0]))\n",
    "        optimizer.step()\n",
    "%time train()"
   ]
  },
  {
   "cell_type": "code",
   "execution_count": 6,
   "metadata": {},
   "outputs": [
    {
     "data": {
      "image/png": "[encoded data removed]",
      "text/plain": [
       "<matplotlib.figure.Figure at 0x7f549d34b2e8>"
      ]
     },
     "metadata": {},
     "output_type": "display_data"
    },
    {
     "data": {
      "image/png": "[encoded data removed]",
      "text/plain": [
       "<matplotlib.figure.Figure at 0x7f549c595550>"
      ]
     },
     "metadata": {},
     "output_type": "display_data"
    },
    {
     "data": {
      "image/png": "[encoded data removed]",
      "text/plain": [
       "<matplotlib.figure.Figure at 0x7f549c4454e0>"
      ]
     },
     "metadata": {},
     "output_type": "display_data"
    }
   ],
   "source": [
    "# Set model and likelihood into evaluation mode\n",
    "model.eval()\n",
    "likelihood.eval()\n",
    "\n",
    "# Generate nxn grid of test points spaced on a grid of size 1/(n-1) in [0,1]x[0,1]\n",
    "n = 10\n",
    "test_x = Variable(torch.zeros(int(pow(n, 2)), 2))\n",
    "for i in range(n):\n",
    "    for j in range(n):\n",
    "        test_x.data[i * n + j][0] = float(i) / (n-1)\n",
    "        test_x.data[i * n + j][1] = float(j) / (n-1)\n",
    "\n",
    "# Calculate mean and predictive variance\n",
    "observed_pred = likelihood(model(test_x))\n",
    "# Labels are predictive means\n",
    "pred_labels = observed_pred.mean().view(n, n).data.numpy()\n",
    "\n",
    "# Compute actual data from true function\n",
    "test_y_actual = torch.sin(((test_x.data[:, 0] + test_x.data[:, 1]) * (2 * math.pi))).numpy().reshape(n, n)\n",
    "# Calc abosolute error\n",
    "delta_y = numpy.absolute(pred_labels - test_y_actual)\n",
    "\n",
    "# Define a plotting function\n",
    "def ax_plot(f, ax, y_labels, title):\n",
    "    im = ax.imshow(y_labels)\n",
    "    ax.set_title(title)\n",
    "    f.colorbar(im)\n",
    "\n",
    "# Plot our predictive means\n",
    "f, observed_ax = plt.subplots(1, 1, figsize=(4, 3))\n",
    "ax_plot(f, observed_ax, pred_labels, 'Predicted Values (Likelihood)')\n",
    "\n",
    "# Plot the true values\n",
    "f, observed_ax2 = plt.subplots(1, 1, figsize=(4, 3))\n",
    "ax_plot(f, observed_ax2, test_y_actual, 'Actual Values (Likelihood)')\n",
    "\n",
    "# Plot the absolute errors\n",
    "f, observed_ax3 = plt.subplots(1, 1, figsize=(4, 3))\n",
    "ax_plot(f, observed_ax3, delta_y, 'Absolute Error Surface')"
   ]
  },
  {
   "cell_type": "code",
   "execution_count": null,
   "metadata": {
    "collapsed": true
   },
   "outputs": [],
   "source": []
  }
 ],
 "metadata": {
  "anaconda-cloud": {},
  "kernelspec": {
   "display_name": "Python 3",
   "language": "python",
   "name": "python3"
  },
  "language_info": {
   "codemirror_mode": {
    "name": "ipython",
    "version": 3
   },
   "file_extension": ".py",
   "mimetype": "text/x-python",
   "name": "python",
   "nbconvert_exporter": "python",
   "pygments_lexer": "ipython3",
   "version": "3.6.1"
  }
 },
 "nbformat": 4,
 "nbformat_minor": 2
}
