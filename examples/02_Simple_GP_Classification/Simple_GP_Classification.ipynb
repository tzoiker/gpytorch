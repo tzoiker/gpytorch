{
 "cells": [
  {
   "cell_type": "markdown",
   "metadata": {},
   "source": [
    "This example is the simplest form of using an RBF kernel in an `VariationalGP` module for classification. This basic model is usable when there is not much training data and no advanced techniques are required.\n",
    "\n",
    "In this example, we’re modeling a unit wave with period 1/2 centered with positive values @ x=0\n",
    "\n",
    "Variational inference uses the assumption that the posterior distribution factors multiplicatively over the input variables. This makes approximating the distribution via the KL divergence possible to obtain a fast approximation to the posterior. For a good explanation of variational techniques, sections 4-6 of the following may be useful: https://www.cs.princeton.edu/courses/archive/fall11/cos597C/lectures/variational-inference-i.pdf"
   ]
  },
  {
   "cell_type": "code",
   "execution_count": 1,
   "metadata": {
    "collapsed": true
   },
   "outputs": [],
   "source": [
    "import math\n",
    "import torch\n",
    "import gpytorch\n",
    "from matplotlib import pyplot as plt\n",
    "\n",
    "%matplotlib inline"
   ]
  },
  {
   "cell_type": "code",
   "execution_count": 2,
   "metadata": {
    "collapsed": true
   },
   "outputs": [],
   "source": [
    "from torch.autograd import Variable\n",
    "# Grid points are [0,1] every 1/9\n",
    "train_x = Variable(torch.linspace(0, 1, 10))\n",
    "# Labels are unit wave with period 1/2 centered with positive values @ x=0\n",
    "train_y = Variable(torch.sign(torch.cos(train_x.data * (4 * math.pi))))"
   ]
  },
  {
   "cell_type": "code",
   "execution_count": 3,
   "metadata": {
    "collapsed": true
   },
   "outputs": [],
   "source": [
    "from torch import nn, optim\n",
    "from gpytorch.kernels import RBFKernel\n",
    "from gpytorch.priors import SmoothedBoxPrior\n",
    "from gpytorch.means import ConstantMean\n",
    "from gpytorch.likelihoods import GaussianLikelihood, BernoulliLikelihood\n",
    "from gpytorch.random_variables import GaussianRandomVariable"
   ]
  },
  {
   "cell_type": "code",
   "execution_count": 4,
   "metadata": {
    "collapsed": true
   },
   "outputs": [],
   "source": [
    "# Basic classification model with variational inference\n",
    "class GPClassificationModel(gpytorch.models.VariationalGP):\n",
    "    def __init__(self, train_x):\n",
    "        super(GPClassificationModel, self).__init__(train_x)\n",
    "        self.mean_module = ConstantMean()\n",
    "        self.covar_module = RBFKernel()\n",
    "        self.register_parameter(\n",
    "            name=\"log_outputscale\",\n",
    "            parameter=torch.nn.Parameter(torch.Tensor([0])),\n",
    "            prior=SmoothedBoxPrior(math.exp(-5), math.exp(6), sigma=0.1, log_transform=True),\n",
    "        )\n",
    "\n",
    "    def forward(self, x):\n",
    "        mean_x = self.mean_module(x)\n",
    "        covar_x = self.covar_module(x) * self.log_outputscale.exp()\n",
    "        latent_pred = GaussianRandomVariable(mean_x, covar_x)\n",
    "        return latent_pred\n",
    "# Initialize model and likelihood\n",
    "model = GPClassificationModel(train_x.data)\n",
    "likelihood = BernoulliLikelihood()"
   ]
  },
  {
   "cell_type": "code",
   "execution_count": 5,
   "metadata": {
    "scrolled": true
   },
   "outputs": [
    {
     "name": "stderr",
     "output_type": "stream",
     "text": [
      "/home/jrg365/anaconda3/lib/python3.6/site-packages/ipykernel_launcher.py:25: UserWarning: invalid index of a 0-dim tensor. This will be an error in PyTorch 0.5. Use tensor.item() to convert a 0-dim tensor to a Python number\n",
      "/home/jrg365/anaconda3/lib/python3.6/site-packages/ipykernel_launcher.py:26: UserWarning: invalid index of a 0-dim tensor. This will be an error in PyTorch 0.5. Use tensor.item() to convert a 0-dim tensor to a Python number\n"
     ]
    },
    {
     "name": "stdout",
     "output_type": "stream",
     "text": [
      "Iter 1/50 - Loss: 331.950   log_lengthscale: 0.000\n",
      "Iter 2/50 - Loss: 235.139   log_lengthscale: -0.100\n",
      "Iter 3/50 - Loss: 153.589   log_lengthscale: -0.200\n",
      "Iter 4/50 - Loss: 100.220   log_lengthscale: -0.297\n",
      "Iter 5/50 - Loss: 64.491   log_lengthscale: -0.393\n",
      "Iter 6/50 - Loss: 40.145   log_lengthscale: -0.487\n",
      "Iter 7/50 - Loss: 26.331   log_lengthscale: -0.579\n",
      "Iter 8/50 - Loss: 20.038   log_lengthscale: -0.669\n",
      "Iter 9/50 - Loss: 18.432   log_lengthscale: -0.756\n",
      "Iter 10/50 - Loss: 17.716   log_lengthscale: -0.841\n",
      "Iter 11/50 - Loss: 16.808   log_lengthscale: -0.922\n",
      "Iter 12/50 - Loss: 16.033   log_lengthscale: -1.001\n",
      "Iter 13/50 - Loss: 15.583   log_lengthscale: -1.078\n",
      "Iter 14/50 - Loss: 15.100   log_lengthscale: -1.151\n",
      "Iter 15/50 - Loss: 13.901   log_lengthscale: -1.222\n",
      "Iter 16/50 - Loss: 13.329   log_lengthscale: -1.290\n",
      "Iter 17/50 - Loss: 12.991   log_lengthscale: -1.355\n",
      "Iter 18/50 - Loss: 11.378   log_lengthscale: -1.417\n",
      "Iter 19/50 - Loss: 11.357   log_lengthscale: -1.477\n",
      "Iter 20/50 - Loss: 11.265   log_lengthscale: -1.533\n",
      "Iter 21/50 - Loss: 11.437   log_lengthscale: -1.586\n",
      "Iter 22/50 - Loss: 11.040   log_lengthscale: -1.637\n",
      "Iter 23/50 - Loss: 10.637   log_lengthscale: -1.685\n",
      "Iter 24/50 - Loss: 10.994   log_lengthscale: -1.730\n",
      "Iter 25/50 - Loss: 10.630   log_lengthscale: -1.772\n",
      "Iter 26/50 - Loss: 10.869   log_lengthscale: -1.812\n",
      "Iter 27/50 - Loss: 10.542   log_lengthscale: -1.848\n",
      "Iter 28/50 - Loss: 11.525   log_lengthscale: -1.882\n",
      "Iter 29/50 - Loss: 10.654   log_lengthscale: -1.913\n",
      "Iter 30/50 - Loss: 10.722   log_lengthscale: -1.941\n",
      "Iter 31/50 - Loss: 10.852   log_lengthscale: -1.967\n",
      "Iter 32/50 - Loss: 10.890   log_lengthscale: -1.990\n",
      "Iter 33/50 - Loss: 10.829   log_lengthscale: -2.011\n",
      "Iter 34/50 - Loss: 10.913   log_lengthscale: -2.030\n",
      "Iter 35/50 - Loss: 10.907   log_lengthscale: -2.048\n",
      "Iter 36/50 - Loss: 10.370   log_lengthscale: -2.063\n",
      "Iter 37/50 - Loss: 10.894   log_lengthscale: -2.077\n",
      "Iter 38/50 - Loss: 11.042   log_lengthscale: -2.089\n",
      "Iter 39/50 - Loss: 10.673   log_lengthscale: -2.099\n",
      "Iter 40/50 - Loss: 11.016   log_lengthscale: -2.109\n",
      "Iter 41/50 - Loss: 10.697   log_lengthscale: -2.118\n",
      "Iter 42/50 - Loss: 10.646   log_lengthscale: -2.125\n",
      "Iter 43/50 - Loss: 10.749   log_lengthscale: -2.132\n",
      "Iter 44/50 - Loss: 10.735   log_lengthscale: -2.137\n",
      "Iter 45/50 - Loss: 10.588   log_lengthscale: -2.142\n",
      "Iter 46/50 - Loss: 11.001   log_lengthscale: -2.146\n",
      "Iter 47/50 - Loss: 10.955   log_lengthscale: -2.150\n",
      "Iter 48/50 - Loss: 10.553   log_lengthscale: -2.153\n",
      "Iter 49/50 - Loss: 10.828   log_lengthscale: -2.155\n",
      "Iter 50/50 - Loss: 10.421   log_lengthscale: -2.157\n"
     ]
    }
   ],
   "source": [
    "# Find optimal model hyperparameters\n",
    "model.train()\n",
    "likelihood.train()\n",
    "\n",
    "# Use the adam optimizer\n",
    "optimizer = torch.optim.Adam([\n",
    "    {'params': model.parameters()},\n",
    "    # BernoulliLikelihood has no parameters\n",
    "], lr=0.1)\n",
    "\n",
    "# \"Loss\" for GPs - the marginal log likelihood\n",
    "# n_data refers to the amount of training data\n",
    "mll = gpytorch.mlls.VariationalMarginalLogLikelihood(likelihood, model, n_data=len(train_y))\n",
    "\n",
    "training_iter = 50\n",
    "for i in range(training_iter):\n",
    "    # Zero backpropped gradients from previous iteration\n",
    "    optimizer.zero_grad()\n",
    "    # Get predictive output\n",
    "    output = model(train_x)\n",
    "    # Calc loss and backprop gradients\n",
    "    loss = -mll(output, train_y)\n",
    "    loss.backward()\n",
    "    print('Iter %d/%d - Loss: %.3f   log_lengthscale: %.3f' % (\n",
    "        i + 1, training_iter, loss.data[0],\n",
    "        model.covar_module.log_lengthscale.data.squeeze()[0],\n",
    "    ))\n",
    "    optimizer.step()"
   ]
  },
  {
   "cell_type": "code",
   "execution_count": 6,
   "metadata": {},
   "outputs": [
    {
     "data": {
      "image/png": "[encoded data removed]",
      "text/plain": [
       "<matplotlib.figure.Figure at 0x7fc367e04550>"
      ]
     },
     "metadata": {},
     "output_type": "display_data"
    }
   ],
   "source": [
    "# Go into eval mode\n",
    "model.eval()\n",
    "likelihood.eval()\n",
    "\n",
    "# Initialize fig and axes for plot\n",
    "f, observed_ax = plt.subplots(1, 1, figsize=(4, 3))\n",
    "# Test x are regularly spaced by 0.01 0,1 inclusive\n",
    "test_x = Variable(torch.linspace(0, 1, 101))\n",
    "## Not sure why this is with... Get Bernoulli prediction\n",
    "with gpytorch.fast_pred_var():\n",
    "    observed_pred = likelihood(model(test_x))\n",
    "\n",
    "# Plotting function\n",
    "# A lot of this should be consolidated as helper between different notebooks\n",
    "def ax_plot(ax, rand_var, title):\n",
    "    ax.plot(train_x.data.numpy(), train_y.data.numpy(), 'k*')\n",
    "    pred_labels = rand_var.mean().ge(0.5).float().mul(2).sub(1)\n",
    "    ax.plot(test_x.data.numpy(), pred_labels.data.numpy(), 'b')\n",
    "    ax.set_ylim([-3, 3])\n",
    "    ax.legend(['Observed Data', 'Mean', 'Confidence'])\n",
    "    ax.set_title(title)\n",
    "# Plot square wave predictions\n",
    "ax_plot(observed_ax, observed_pred, 'Observed Values (Likelihood)')"
   ]
  }
 ],
 "metadata": {
  "anaconda-cloud": {},
  "kernelspec": {
   "display_name": "Python 3",
   "language": "python",
   "name": "python3"
  },
  "language_info": {
   "codemirror_mode": {
    "name": "ipython",
    "version": 3
   },
   "file_extension": ".py",
   "mimetype": "text/x-python",
   "name": "python",
   "nbconvert_exporter": "python",
   "pygments_lexer": "ipython3",
   "version": "3.6.1"
  }
 },
 "nbformat": 4,
 "nbformat_minor": 1
}
