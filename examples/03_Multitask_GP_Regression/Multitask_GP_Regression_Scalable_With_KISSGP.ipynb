{
 "cells": [
  {
   "cell_type": "markdown",
   "metadata": {},
   "source": [
    "# Scalable Multitask GP Regression (w/ KISS-GP)\n",
    "\n",
    "This notebook demonstrates how to perform standard (Kronecker) multitask regression with kernels.IndexKernel.\n",
    "\n",
    "This differs from the [hadamard_multitask_gp_regression example notebook](https://github.com/cornellius-gp/gpytorch/blob/master/examples/hadamard_multitask_gp_regression.ipynb) in one key way:\n",
    "- Here, we assume that we want to learn **all tasks per input**. (The kernel that we learn is expressed as a Kronecker product of an input kernel and a task kernel).\n",
    "- In the other notebook, we assume that we want to learn one tasks per input.  For each input, we specify the task of the input that we care about. (The kernel in that notebook is the Hadamard product of an input kernel and a task kernel).\n",
    "\n",
    "Multitask regression, first introduced in [this paper](https://papers.nips.cc/paper/3189-multi-task-gaussian-process-prediction.pdf) learns similarities in the outputs simultaneously. It's useful when you are performing regression on multiple functions that share the same inputs, especially if they have similarities (such as being sinusodial). "
   ]
  },
  {
   "cell_type": "code",
   "execution_count": 1,
   "metadata": {},
   "outputs": [],
   "source": [
    "import math\n",
    "import torch\n",
    "import gpytorch\n",
    "from matplotlib import pyplot as plt\n",
    "\n",
    "%matplotlib inline\n",
    "%load_ext autoreload\n",
    "%autoreload 2"
   ]
  },
  {
   "cell_type": "code",
   "execution_count": 2,
   "metadata": {},
   "outputs": [],
   "source": [
    "# Training points are every 0.1 in [0,1] (note that they're the same for both tasks)\n",
    "train_x = torch.linspace(0, 1, 100)\n",
    "\n",
    "# y1 function is sin(2*pi*x) with noise N(0, 0.04)\n",
    "train_y1 = torch.sin(train_x.data * (2 * math.pi)) + torch.randn(train_x.size()) * 0.2\n",
    "# y2 function is cos(2*pi*x) with noise N(0, 0.04)\n",
    "train_y2 = torch.cos(train_x.data * (2 * math.pi)) + torch.randn(train_x.size()) * 0.2\n",
    "\n",
    "# Create a train_y which interleaves the two\n",
    "train_y = torch.stack([train_y1, train_y2], -1)"
   ]
  },
  {
   "cell_type": "code",
   "execution_count": 3,
   "metadata": {},
   "outputs": [],
   "source": [
    "from torch import optim\n",
    "from gpytorch.kernels import RBFKernel, MultitaskKernel, GridInterpolationKernel\n",
    "from gpytorch.means import ConstantMean, MultitaskMean\n",
    "from gpytorch.likelihoods import MultitaskGaussianLikelihood\n",
    "from gpytorch.random_variables import MultitaskGaussianRandomVariable"
   ]
  },
  {
   "cell_type": "code",
   "execution_count": 4,
   "metadata": {},
   "outputs": [],
   "source": [
    "class MultitaskGPModel(gpytorch.models.ExactGP):\n",
    "    def __init__(self, train_x, train_y, likelihood):\n",
    "        super(MultitaskGPModel, self).__init__(train_x, train_y, likelihood)\n",
    "        self.mean_module = MultitaskMean(ConstantMean(), n_tasks=2)\n",
    "        self.data_covar_module = GridInterpolationKernel(RBFKernel(), grid_size=100, grid_bounds=[(0, 1)])\n",
    "        self.covar_module = MultitaskKernel(self.data_covar_module, n_tasks=2, rank=1)\n",
    "\n",
    "    def forward(self, x):\n",
    "        mean_x = self.mean_module(x)\n",
    "        covar_x = self.covar_module(x)\n",
    "        return MultitaskGaussianRandomVariable(mean_x, covar_x)\n",
    "\n",
    "# Gaussian likelihood is used for regression to give predictive mean+variance\n",
    "# and learn noise\n",
    "likelihood = MultitaskGaussianLikelihood(n_tasks=2)\n",
    "model = MultitaskGPModel(train_x, train_y, likelihood)"
   ]
  },
  {
   "cell_type": "code",
   "execution_count": 5,
   "metadata": {
    "scrolled": false
   },
   "outputs": [
    {
     "name": "stdout",
     "output_type": "stream",
     "text": [
      "Iter 1/50 - Loss: 47.785\n",
      "Iter 2/50 - Loss: 43.379\n",
      "Iter 3/50 - Loss: 38.635\n",
      "Iter 4/50 - Loss: 33.780\n",
      "Iter 5/50 - Loss: 28.571\n",
      "Iter 6/50 - Loss: 23.344\n",
      "Iter 7/50 - Loss: 18.309\n",
      "Iter 8/50 - Loss: 12.979\n",
      "Iter 9/50 - Loss: 7.855\n",
      "Iter 10/50 - Loss: 3.174\n",
      "Iter 11/50 - Loss: -1.739\n",
      "Iter 12/50 - Loss: -7.158\n",
      "Iter 13/50 - Loss: -10.984\n",
      "Iter 14/50 - Loss: -16.516\n",
      "Iter 15/50 - Loss: -20.722\n",
      "Iter 16/50 - Loss: -23.149\n",
      "Iter 17/50 - Loss: -29.254\n",
      "Iter 18/50 - Loss: -32.566\n",
      "Iter 19/50 - Loss: -37.449\n",
      "Iter 20/50 - Loss: -40.705\n",
      "Iter 21/50 - Loss: -46.881\n",
      "Iter 22/50 - Loss: -48.785\n",
      "Iter 23/50 - Loss: -53.232\n",
      "Iter 24/50 - Loss: -58.670\n",
      "Iter 25/50 - Loss: -62.937\n",
      "Iter 26/50 - Loss: -64.598\n",
      "Iter 27/50 - Loss: -69.156\n",
      "Iter 28/50 - Loss: -72.751\n",
      "Iter 29/50 - Loss: -75.995\n",
      "Iter 30/50 - Loss: -78.945\n",
      "Iter 31/50 - Loss: -81.709\n",
      "Iter 32/50 - Loss: -84.134\n",
      "Iter 33/50 - Loss: -87.085\n",
      "Iter 34/50 - Loss: -90.507\n",
      "Iter 35/50 - Loss: -92.145\n",
      "Iter 36/50 - Loss: -93.145\n",
      "Iter 37/50 - Loss: -96.148\n",
      "Iter 38/50 - Loss: -94.914\n",
      "Iter 39/50 - Loss: -96.569\n",
      "Iter 40/50 - Loss: -97.498\n",
      "Iter 41/50 - Loss: -98.861\n",
      "Iter 42/50 - Loss: -98.521\n",
      "Iter 43/50 - Loss: -98.348\n",
      "Iter 44/50 - Loss: -101.636\n",
      "Iter 45/50 - Loss: -100.706\n",
      "Iter 46/50 - Loss: -99.090\n",
      "Iter 47/50 - Loss: -99.983\n",
      "Iter 48/50 - Loss: -98.106\n",
      "Iter 49/50 - Loss: -100.040\n",
      "Iter 50/50 - Loss: -98.038\n"
     ]
    }
   ],
   "source": [
    "# Find optimal model hyperparameters\n",
    "model.train()\n",
    "likelihood.train()\n",
    "\n",
    "# Use the adam optimizer\n",
    "optimizer = torch.optim.Adam([\n",
    "    {'params': model.parameters()},  # Includes GaussianLikelihood parameters\n",
    "], lr=0.1)\n",
    "\n",
    "# \"Loss\" for GPs - the marginal log likelihood\n",
    "mll = gpytorch.mlls.ExactMarginalLogLikelihood(likelihood, model)\n",
    "\n",
    "n_iter = 50\n",
    "for i in range(n_iter):\n",
    "    # Zero prev backpropped gradients\n",
    "    optimizer.zero_grad()\n",
    "    # Make predictions from training data\n",
    "    # Again, note feeding duplicated x_data and indices indicating which task\n",
    "    output = model(train_x)\n",
    "    # TODO: Fix this view call!!\n",
    "    loss = -mll(output, train_y)\n",
    "    loss.backward()\n",
    "    print('Iter %d/%d - Loss: %.3f' % (i + 1, n_iter, loss.item()))\n",
    "    optimizer.step()"
   ]
  },
  {
   "cell_type": "code",
   "execution_count": 6,
   "metadata": {
    "scrolled": true
   },
   "outputs": [
    {
     "data": {
      "image/png": "[encoded data removed]",
      "text/plain": [
       "<Figure size 576x216 with 2 Axes>"
      ]
     },
     "metadata": {},
     "output_type": "display_data"
    }
   ],
   "source": [
    "# Set into eval mode\n",
    "model.eval()\n",
    "likelihood.eval()\n",
    "\n",
    "# Initialize plots\n",
    "f, (y1_ax, y2_ax) = plt.subplots(1, 2, figsize=(8, 3))\n",
    "# Test points every 0.02 in [0,1]\n",
    "\n",
    "# Make predictions\n",
    "with torch.no_grad():\n",
    "    test_x = torch.linspace(0, 1, 51)\n",
    "    observed_pred = likelihood(model(test_x))\n",
    "    # Get mean\n",
    "    mean = observed_pred.mean()\n",
    "    # Get lower and upper confidence bounds\n",
    "    lower, upper = observed_pred.confidence_region()\n",
    "# This contains predictions for both tasks, flattened out\n",
    "# The first half of the predictions is for the first task\n",
    "# The second half is for the second task\n",
    "\n",
    "# Define plotting function\n",
    "def ax_plot():\n",
    "\n",
    "    # Plot training data as black stars\n",
    "    y1_ax.plot(train_x.detach().numpy(), train_y1.detach().numpy(), 'k*')\n",
    "    # Predictive mean as blue line\n",
    "    y1_ax.plot(test_x.numpy(), mean[:, 0].numpy(), 'b')\n",
    "    # Shade in confidence \n",
    "    y1_ax.fill_between(test_x.numpy(), lower[:, 0].numpy(), upper[:, 0].numpy(), alpha=0.5)\n",
    "    y1_ax.set_ylim([-3, 3])\n",
    "    y1_ax.legend(['Observed Data', 'Mean', 'Confidence'])\n",
    "    y1_ax.set_title('Observed Values (Likelihood)')\n",
    "    \n",
    "    # Plot training data as black stars\n",
    "    y2_ax.plot(train_x.detach().numpy(), train_y2.detach().numpy(), 'k*')\n",
    "    # Predictive mean as blue line\n",
    "    y2_ax.plot(test_x.numpy(), mean[:, 1].numpy(), 'b')\n",
    "    # Shade in confidence \n",
    "    y2_ax.fill_between(test_x.numpy(), lower[:, 1].numpy(), upper[:, 1].numpy(), alpha=0.5)\n",
    "    y2_ax.set_ylim([-3, 3])\n",
    "    y2_ax.legend(['Observed Data', 'Mean', 'Confidence'])\n",
    "    y2_ax.set_title('Observed Values (Likelihood)')\n",
    "\n",
    "# Plot both tasks\n",
    "ax_plot()"
   ]
  },
  {
   "cell_type": "code",
   "execution_count": null,
   "metadata": {
    "collapsed": true
   },
   "outputs": [],
   "source": []
  }
 ],
 "metadata": {
  "anaconda-cloud": {},
  "kernelspec": {
   "display_name": "Python 3",
   "language": "python",
   "name": "python3"
  },
  "language_info": {
   "codemirror_mode": {
    "name": "ipython",
    "version": 3
   },
   "file_extension": ".py",
   "mimetype": "text/x-python",
   "name": "python",
   "nbconvert_exporter": "python",
   "pygments_lexer": "ipython3",
   "version": "3.6.5"
  }
 },
 "nbformat": 4,
 "nbformat_minor": 1
}
