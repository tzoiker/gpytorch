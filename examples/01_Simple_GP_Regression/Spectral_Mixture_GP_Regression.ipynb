{
 "cells": [
  {
   "cell_type": "markdown",
   "metadata": {},
   "source": [
    "# Simple GP Regression with a Spectral Mixture Kernel\n",
    "\n",
    "## Introduction\n",
    "\n",
    "This example shows how to use a `SpectralMixtureKernel` module on an `ExactGP` model. This module is designed for\n",
    "- When you want to use exact inference (e.g. for regression)\n",
    "- When you want to use a more sophisticated kernel than RBF\n",
    "\n",
    "Function to be modeled is  $sin(2\\pi x)$\n",
    "\n",
    "The Spectral Mixture (SM) kernel was invented and discussed in this paper:\n",
    "https://arxiv.org/pdf/1302.4245.pdf"
   ]
  },
  {
   "cell_type": "code",
   "execution_count": 1,
   "metadata": {},
   "outputs": [],
   "source": [
    "import math\n",
    "import torch\n",
    "import gpytorch\n",
    "from matplotlib import pyplot as plt\n",
    "\n",
    "%matplotlib inline\n",
    "%load_ext autoreload\n",
    "%autoreload 2"
   ]
  },
  {
   "cell_type": "markdown",
   "metadata": {},
   "source": [
    "## Set up training data\n",
    "\n",
    "In the next cell, we set up the training data for this example. We'll be using 15 regularly spaced points on [0,1] which we evaluate the function on and add Gaussian noise to get the training labels."
   ]
  },
  {
   "cell_type": "code",
   "execution_count": 2,
   "metadata": {},
   "outputs": [],
   "source": [
    "train_x = torch.linspace(0, 1, 15)\n",
    "train_y = torch.sin(train_x * (2 * math.pi))"
   ]
  },
  {
   "cell_type": "markdown",
   "metadata": {},
   "source": [
    "## Set up the model\n",
    "\n",
    "The model should be very similar to the `ExactGP` model in the [simple regression example](./Simple_GP_Regression.ipynb).\n",
    "\n",
    "The only difference is here, we're using a more complex kernel (the `SpectralMixtureKernel`). This kernel requires careful initialization to work properly. To that end, in the model `__init__` function, we call\n",
    "\n",
    "```\n",
    "self.covar_module = gpytorch.kernels.SpectralMixtureKernel(n_mixtures=4)\n",
    "self.covar_module.initialize_from_data(train_x, train_y)\n",
    "```\n",
    "\n",
    "This ensures that, when we perform optimization to learn kernel hyperparameters, we will be starting from a reasonable initialization."
   ]
  },
  {
   "cell_type": "code",
   "execution_count": 3,
   "metadata": {},
   "outputs": [],
   "source": [
    "class SpectralMixtureGPModel(gpytorch.models.ExactGP):\n",
    "    def __init__(self, train_x, train_y, likelihood):\n",
    "        super(SpectralMixtureGPModel, self).__init__(train_x, train_y, likelihood)\n",
    "        self.mean_module = gpytorch.means.ConstantMean()\n",
    "        self.covar_module = gpytorch.kernels.SpectralMixtureKernel(n_mixtures=4)\n",
    "        self.covar_module.initialize_from_data(train_x, train_y)\n",
    "\n",
    "    def forward(self,x):\n",
    "        mean_x = self.mean_module(x)\n",
    "        covar_x = self.covar_module(x)\n",
    "        return gpytorch.random_variables.GaussianRandomVariable(mean_x, covar_x)\n",
    "\n",
    "    \n",
    "likelihood = gpytorch.likelihoods.GaussianLikelihood()\n",
    "model = SpectralMixtureGPModel(train_x, train_y, likelihood)"
   ]
  },
  {
   "cell_type": "markdown",
   "metadata": {},
   "source": [
    "## Training the model\n",
    "\n",
    "In the next cell, we handle using Type-II MLE to train the hyperparameters of the Gaussian process.\n",
    "The spectral mixture kernel's hyperparameters start from what was specified in `initialize_from_data`.\n",
    "\n",
    "See the [simple regression example](./Simple_GP_Regression.ipynb) for more info on this step."
   ]
  },
  {
   "cell_type": "code",
   "execution_count": 4,
   "metadata": {
    "scrolled": false
   },
   "outputs": [
    {
     "name": "stdout",
     "output_type": "stream",
     "text": [
      "Iter 1/100 - Loss: 1.338\n",
      "Iter 2/100 - Loss: 1.282\n",
      "Iter 3/100 - Loss: 1.228\n",
      "Iter 4/100 - Loss: 1.167\n",
      "Iter 5/100 - Loss: 1.120\n",
      "Iter 6/100 - Loss: 1.060\n",
      "Iter 7/100 - Loss: 1.039\n",
      "Iter 8/100 - Loss: 0.982\n",
      "Iter 9/100 - Loss: 0.941\n",
      "Iter 10/100 - Loss: 0.895\n",
      "Iter 11/100 - Loss: 0.850\n",
      "Iter 12/100 - Loss: 0.798\n",
      "Iter 13/100 - Loss: 0.774\n",
      "Iter 14/100 - Loss: 0.718\n",
      "Iter 15/100 - Loss: 0.696\n",
      "Iter 16/100 - Loss: 0.647\n",
      "Iter 17/100 - Loss: 0.594\n",
      "Iter 18/100 - Loss: 0.566\n",
      "Iter 19/100 - Loss: 0.523\n",
      "Iter 20/100 - Loss: 0.490\n",
      "Iter 21/100 - Loss: 0.463\n",
      "Iter 22/100 - Loss: 0.419\n",
      "Iter 23/100 - Loss: 0.400\n",
      "Iter 24/100 - Loss: 0.350\n",
      "Iter 25/100 - Loss: 0.312\n",
      "Iter 26/100 - Loss: 0.270\n",
      "Iter 27/100 - Loss: 0.241\n",
      "Iter 28/100 - Loss: 0.219\n",
      "Iter 29/100 - Loss: 0.171\n",
      "Iter 30/100 - Loss: 0.157\n",
      "Iter 31/100 - Loss: 0.129\n",
      "Iter 32/100 - Loss: 0.068\n",
      "Iter 33/100 - Loss: 0.050\n",
      "Iter 34/100 - Loss: 0.015\n",
      "Iter 35/100 - Loss: -0.031\n",
      "Iter 36/100 - Loss: -0.071\n",
      "Iter 37/100 - Loss: -0.095\n",
      "Iter 38/100 - Loss: -0.107\n",
      "Iter 39/100 - Loss: -0.183\n",
      "Iter 40/100 - Loss: -0.224\n",
      "Iter 41/100 - Loss: -0.278\n",
      "Iter 42/100 - Loss: -0.319\n",
      "Iter 43/100 - Loss: -0.359\n",
      "Iter 44/100 - Loss: -0.419\n",
      "Iter 45/100 - Loss: -0.482\n",
      "Iter 46/100 - Loss: -0.504\n",
      "Iter 47/100 - Loss: -0.568\n",
      "Iter 48/100 - Loss: -0.624\n",
      "Iter 49/100 - Loss: -0.657\n",
      "Iter 50/100 - Loss: -0.739\n",
      "Iter 51/100 - Loss: -0.809\n",
      "Iter 52/100 - Loss: -0.841\n",
      "Iter 53/100 - Loss: -0.882\n",
      "Iter 54/100 - Loss: -0.929\n",
      "Iter 55/100 - Loss: -0.999\n",
      "Iter 56/100 - Loss: -1.076\n",
      "Iter 57/100 - Loss: -1.087\n",
      "Iter 58/100 - Loss: -0.981\n",
      "Iter 59/100 - Loss: -1.204\n",
      "Iter 60/100 - Loss: -1.269\n",
      "Iter 61/100 - Loss: -1.295\n",
      "Iter 62/100 - Loss: -1.246\n",
      "Iter 63/100 - Loss: -1.190\n",
      "Iter 64/100 - Loss: -1.297\n",
      "Iter 65/100 - Loss: -1.310\n",
      "Iter 66/100 - Loss: -1.132\n",
      "Iter 67/100 - Loss: -0.997\n",
      "Iter 68/100 - Loss: -1.088\n",
      "Iter 69/100 - Loss: -1.223\n",
      "Iter 70/100 - Loss: -1.330\n",
      "Iter 71/100 - Loss: -1.533\n",
      "Iter 72/100 - Loss: -1.698\n",
      "Iter 73/100 - Loss: -1.742\n",
      "Iter 74/100 - Loss: -1.683\n",
      "Iter 75/100 - Loss: -1.566\n",
      "Iter 76/100 - Loss: -1.541\n",
      "Iter 77/100 - Loss: -1.532\n",
      "Iter 78/100 - Loss: -1.441\n",
      "Iter 79/100 - Loss: -1.472\n",
      "Iter 80/100 - Loss: -1.464\n",
      "Iter 81/100 - Loss: -1.376\n",
      "Iter 82/100 - Loss: -1.507\n",
      "Iter 83/100 - Loss: -1.432\n",
      "Iter 84/100 - Loss: -1.251\n",
      "Iter 85/100 - Loss: -1.487\n",
      "Iter 86/100 - Loss: -1.438\n",
      "Iter 87/100 - Loss: -1.482\n",
      "Iter 88/100 - Loss: -1.814\n",
      "Iter 89/100 - Loss: -1.553\n",
      "Iter 90/100 - Loss: -0.923\n",
      "Iter 91/100 - Loss: -1.163\n",
      "Iter 92/100 - Loss: -1.795\n",
      "Iter 93/100 - Loss: -1.880\n",
      "Iter 94/100 - Loss: -1.884\n",
      "Iter 95/100 - Loss: -1.957\n",
      "Iter 96/100 - Loss: -1.879\n",
      "Iter 97/100 - Loss: -1.835\n",
      "Iter 98/100 - Loss: -1.930\n",
      "Iter 99/100 - Loss: -1.960\n",
      "Iter 100/100 - Loss: -1.964\n"
     ]
    }
   ],
   "source": [
    "# Find optimal model hyperparameters\n",
    "model.train()\n",
    "likelihood.train()\n",
    "\n",
    "# Use the adam optimizer\n",
    "optimizer = torch.optim.Adam(model.parameters(), lr=0.1)\n",
    "\n",
    "# \"Loss\" for GPs - the marginal log likelihood\n",
    "mll = gpytorch.mlls.ExactMarginalLogLikelihood(likelihood, model)\n",
    "\n",
    "training_iter = 100\n",
    "for i in range(training_iter):\n",
    "    optimizer.zero_grad()\n",
    "    output = model(train_x)\n",
    "    loss = -mll(output, train_y)\n",
    "    loss.backward()\n",
    "    print('Iter %d/%d - Loss: %.3f' % (i + 1, training_iter, loss.item()))\n",
    "    optimizer.step()"
   ]
  },
  {
   "cell_type": "markdown",
   "metadata": {},
   "source": [
    "## Make predictions, and plot the model fit\n",
    "\n",
    "Now that we've learned good hyperparameters, it's time to use our model to make predictions. The spectral mixture kernel is especially good at extrapolation. To that end, we'll see how well the model extrapolates past the interval `[0, 1]`.\n",
    "\n",
    "In the next cell, we plot the mean and confidence region of the Gaussian process model. The `confidence_region` method is a helper method that returns 2 standard deviations above and below the mean."
   ]
  },
  {
   "cell_type": "code",
   "execution_count": 5,
   "metadata": {
    "scrolled": false
   },
   "outputs": [
    {
     "data": {
      "image/png": "[encoded data removed]",
      "text/plain": [
       "<Figure size 288x216 with 1 Axes>"
      ]
     },
     "metadata": {},
     "output_type": "display_data"
    }
   ],
   "source": [
    "# Test points every 0.1 between 0 and 5\n",
    "test_x = torch.linspace(0, 5, 51)\n",
    "\n",
    "# Get into evaluation (predictive posterior) mode\n",
    "model.eval()\n",
    "likelihood.eval()\n",
    "\n",
    "with torch.no_grad(), gpytorch.fast_pred_var():\n",
    "    # Make predictions\n",
    "    observed_pred = likelihood(model(test_x))\n",
    "\n",
    "    # Initialize plot\n",
    "    f, ax = plt.subplots(1, 1, figsize=(4, 3))\n",
    "\n",
    "    # Get upper and lower confidence bounds\n",
    "    lower, upper = observed_pred.confidence_region()\n",
    "    # Plot training data as black stars\n",
    "    ax.plot(train_x.numpy(), train_y.numpy(), 'k*')\n",
    "    # Plot predictive means as blue line\n",
    "    ax.plot(test_x.numpy(), observed_pred.mean().numpy(), 'b')\n",
    "    # Shade between the lower and upper confidence bounds\n",
    "    ax.fill_between(test_x.numpy(), lower.numpy(), upper.numpy(), alpha=0.5)\n",
    "    ax.set_ylim([-3, 3])\n",
    "    ax.legend(['Observed Data', 'Mean', 'Confidence'])"
   ]
  },
  {
   "cell_type": "code",
   "execution_count": null,
   "metadata": {},
   "outputs": [],
   "source": []
  }
 ],
 "metadata": {
  "anaconda-cloud": {},
  "kernelspec": {
   "display_name": "Python 3",
   "language": "python",
   "name": "python3"
  },
  "language_info": {
   "codemirror_mode": {
    "name": "ipython",
    "version": 3
   },
   "file_extension": ".py",
   "mimetype": "text/x-python",
   "name": "python",
   "nbconvert_exporter": "python",
   "pygments_lexer": "ipython3",
   "version": "3.6.5"
  }
 },
 "nbformat": 4,
 "nbformat_minor": 1
}
